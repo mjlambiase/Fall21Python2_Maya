{
 "cells": [
  {
   "cell_type": "markdown",
   "metadata": {},
   "source": [
    "Maya Lambiase\n",
    "9/28/21\n",
    "Python 2 - DAT-129 \n",
    "JSON project\n",
    "Program that takes in a csv file and a json search criteria file. Output json file with containing the records matched by the search criteria. "
   ]
  },
  {
   "cell_type": "code",
   "execution_count": 1,
   "metadata": {},
   "outputs": [],
   "source": [
    "import csv\n",
    "import json"
   ]
  },
  {
   "cell_type": "code",
   "execution_count": 2,
   "metadata": {},
   "outputs": [],
   "source": [
    "def get_json_search_criteria(json_file):\n",
    "    search_criteria = {}\n",
    "    with open(json_file) as criteria:\n",
    "        search_criteria = json.load(criteria)\n",
    "    return search_criteria"
   ]
  },
  {
   "cell_type": "code",
   "execution_count": 3,
   "metadata": {},
   "outputs": [],
   "source": [
    "def import_csv_file(csv_file):   \n",
    "    list_of_records = []\n",
    "    with open(csv_file, 'r') as csvfile:\n",
    "        project = csv.DictReader(csvfile)\n",
    "        for row in project:\n",
    "            list_of_records.append(row)\n",
    "    return list_of_records"
   ]
  },
  {
   "cell_type": "code",
   "execution_count": 6,
   "metadata": {},
   "outputs": [],
   "source": [
    "def match_search_criteria(data_set, search_criteria):\n",
    "    '''\n",
    "    data_set is a list of dictionaries, each dictionary corresponding to a single list in data file\n",
    "    for loop that iterates over each element of dictionary \n",
    "    search criteria is a dictionary\n",
    "    check value from record against value in search criteria producing a yes if matches or no if does not match\n",
    "    '''\n",
    "    with open(\"json_file_asset.json\", \"w\") as jsonfile:\n",
    "        for record in data_set:\n",
    "        #compare value of records key status to first item in the list which is the value of the criteria's keys status\n",
    "        #this is matching!!!!\n",
    "            if record['asset_type'] == criteria['asset_type']:\n",
    "                jsonfile.write(json.dumps(record))  \n",
    "                jsonfile.write('\\n')\n",
    "                print(record)"
   ]
  },
  {
   "cell_type": "code",
   "execution_count": null,
   "metadata": {},
   "outputs": [],
   "source": [
    "list_of_records = import_csv_file(\"capital_projects.csv\")\n",
    "criteria = get_json_search_criteria(\"json_search_criteria.json\")\n",
    "match_search_criteria(list_of_records, criteria)"
   ]
  },
  {
   "cell_type": "code",
   "execution_count": null,
   "metadata": {},
   "outputs": [],
   "source": []
  }
 ],
 "metadata": {
  "kernelspec": {
   "display_name": "Python 3",
   "language": "python",
   "name": "python3"
  },
  "language_info": {
   "codemirror_mode": {
    "name": "ipython",
    "version": 3
   },
   "file_extension": ".py",
   "mimetype": "text/x-python",
   "name": "python",
   "nbconvert_exporter": "python",
   "pygments_lexer": "ipython3",
   "version": "3.8.5"
  }
 },
 "nbformat": 4,
 "nbformat_minor": 4
}
