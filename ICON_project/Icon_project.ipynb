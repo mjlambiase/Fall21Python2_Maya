{
 "cells": [
  {
   "cell_type": "code",
   "execution_count": 4,
   "metadata": {},
   "outputs": [],
   "source": [
    "# icon_list is a list of 10 strings that will be used to form a 10 x 10 icon\n",
    "icon_list = ['1111111111', '1000000001', '1011111101', '1010000101', '1010100101', '1010111101', '1010000001', '1011111111', '1000000000', '1111111111']"
   ]
  },
  {
   "cell_type": "code",
   "execution_count": 4,
   "metadata": {},
   "outputs": [],
   "source": [
    "def print_icon(list_of_strings, symbol_0, symbol_1):\n",
    "    '''\n",
    "    use nested for loops to print a 10 x 10 icon from icon_list \n",
    "    icon_list is a list of 10 strings with integers of 0 or 1\n",
    "    chose a symbol for 0 and 1\n",
    "    '''\n",
    "    for i in list_of_strings:\n",
    "        for j in i:\n",
    "            if j == '0':\n",
    "                j = symbol_0\n",
    "            elif j == '1':\n",
    "                j = symbol_1\n",
    "            print(j, end=\"\")\n",
    "        print()  "
   ]
  },
  {
   "cell_type": "code",
   "execution_count": 4,
   "metadata": {},
   "outputs": [],
   "source": [
    "def print_inverted_icon(list_of_strings, symbol_0, symbol_1):\n",
    "    '''\n",
    "    use nested for loops to print an inverted display of the original 10 x 10 icon_list \n",
    "    change 0 to 1 and 1 to 0 in original icon list of strings\n",
    "    chose a symbol for 0 and 1    \n",
    "    '''\n",
    "    for i in list_of_strings:\n",
    "        for j in i:\n",
    "            if j == '1':\n",
    "                j = '0'\n",
    "                j = symbol_0\n",
    "            elif j == '0':\n",
    "                j = '1'\n",
    "                j = symbol_1\n",
    "            print(j, end=\"\")\n",
    "        print()  "
   ]
  },
  {
   "cell_type": "code",
   "execution_count": 18,
   "metadata": {},
   "outputs": [],
   "source": [
    "def print_magnified_icon_scale_4(list_of_strings, symbol_0_4times, symbol_1_4times):\n",
    "    '''\n",
    "    use nested for loops to print a larger version of the icon\n",
    "    each string of 10 in original list will print to a 4x4 grid\n",
    "    print the symbol 4 times to increase number of rows by 4\n",
    "    add an extra for loop to repeat the loop 4 times to increase number of columns    \n",
    "    '''\n",
    "    for i in list_of_strings:\n",
    "        for n in range(4): \n",
    "            for j in i:\n",
    "                if j == '0':\n",
    "                    j = '0000'\n",
    "                    j = symbol_0_4times\n",
    "                elif j == '1':\n",
    "                    j = '1111'\n",
    "                    j = symbol_1_4times                    \n",
    "                print(j, end = \"\")\n",
    "            print()"
   ]
  },
  {
   "cell_type": "code",
   "execution_count": 19,
   "metadata": {},
   "outputs": [
    {
     "name": "stdout",
     "output_type": "stream",
     "text": [
      "This is the original icon:\n",
      "$$$$$$$$$$\n",
      "$////////$\n",
      "$/$$$$$$/$\n",
      "$/$////$/$\n",
      "$/$/$//$/$\n",
      "$/$/$$$$/$\n",
      "$/$//////$\n",
      "$/$$$$$$$$\n",
      "$/////////\n",
      "$$$$$$$$$$\n",
      "\n",
      "This is the icon inverted:\n",
      "//////////\n",
      "/$$$$$$$$/\n",
      "/$//////$/\n",
      "/$/$$$$/$/\n",
      "/$/$/$$/$/\n",
      "/$/$////$/\n",
      "/$/$$$$$$/\n",
      "/$////////\n",
      "/$$$$$$$$$\n",
      "//////////\n",
      "\n",
      "This is the icon magnified by a scale of 4:\n",
      "$$$$$$$$$$$$$$$$$$$$$$$$$$$$$$$$$$$$$$$$\n",
      "$$$$$$$$$$$$$$$$$$$$$$$$$$$$$$$$$$$$$$$$\n",
      "$$$$$$$$$$$$$$$$$$$$$$$$$$$$$$$$$$$$$$$$\n",
      "$$$$$$$$$$$$$$$$$$$$$$$$$$$$$$$$$$$$$$$$\n",
      "$$$$////////////////////////////////$$$$\n",
      "$$$$////////////////////////////////$$$$\n",
      "$$$$////////////////////////////////$$$$\n",
      "$$$$////////////////////////////////$$$$\n",
      "$$$$////$$$$$$$$$$$$$$$$$$$$$$$$////$$$$\n",
      "$$$$////$$$$$$$$$$$$$$$$$$$$$$$$////$$$$\n",
      "$$$$////$$$$$$$$$$$$$$$$$$$$$$$$////$$$$\n",
      "$$$$////$$$$$$$$$$$$$$$$$$$$$$$$////$$$$\n",
      "$$$$////$$$$////////////////$$$$////$$$$\n",
      "$$$$////$$$$////////////////$$$$////$$$$\n",
      "$$$$////$$$$////////////////$$$$////$$$$\n",
      "$$$$////$$$$////////////////$$$$////$$$$\n",
      "$$$$////$$$$////$$$$////////$$$$////$$$$\n",
      "$$$$////$$$$////$$$$////////$$$$////$$$$\n",
      "$$$$////$$$$////$$$$////////$$$$////$$$$\n",
      "$$$$////$$$$////$$$$////////$$$$////$$$$\n",
      "$$$$////$$$$////$$$$$$$$$$$$$$$$////$$$$\n",
      "$$$$////$$$$////$$$$$$$$$$$$$$$$////$$$$\n",
      "$$$$////$$$$////$$$$$$$$$$$$$$$$////$$$$\n",
      "$$$$////$$$$////$$$$$$$$$$$$$$$$////$$$$\n",
      "$$$$////$$$$////////////////////////$$$$\n",
      "$$$$////$$$$////////////////////////$$$$\n",
      "$$$$////$$$$////////////////////////$$$$\n",
      "$$$$////$$$$////////////////////////$$$$\n",
      "$$$$////$$$$$$$$$$$$$$$$$$$$$$$$$$$$$$$$\n",
      "$$$$////$$$$$$$$$$$$$$$$$$$$$$$$$$$$$$$$\n",
      "$$$$////$$$$$$$$$$$$$$$$$$$$$$$$$$$$$$$$\n",
      "$$$$////$$$$$$$$$$$$$$$$$$$$$$$$$$$$$$$$\n",
      "$$$$////////////////////////////////////\n",
      "$$$$////////////////////////////////////\n",
      "$$$$////////////////////////////////////\n",
      "$$$$////////////////////////////////////\n",
      "$$$$$$$$$$$$$$$$$$$$$$$$$$$$$$$$$$$$$$$$\n",
      "$$$$$$$$$$$$$$$$$$$$$$$$$$$$$$$$$$$$$$$$\n",
      "$$$$$$$$$$$$$$$$$$$$$$$$$$$$$$$$$$$$$$$$\n",
      "$$$$$$$$$$$$$$$$$$$$$$$$$$$$$$$$$$$$$$$$\n"
     ]
    }
   ],
   "source": [
    "# run code to print different versions of icon\n",
    "print(\"This is the original icon:\")\n",
    "print_icon(icon_list, '/', '$')\n",
    "print()\n",
    "\n",
    "print(\"This is the icon inverted:\")\n",
    "print_inverted_icon(icon_list, '/', '$')\n",
    "print()\n",
    "\n",
    "print(\"This is the icon magnified by a scale of 4:\")\n",
    "print_magnified_icon_scale_4(icon_list, '////', '$$$$')"
   ]
  },
  {
   "cell_type": "code",
   "execution_count": null,
   "metadata": {},
   "outputs": [],
   "source": []
  }
 ],
 "metadata": {
  "kernelspec": {
   "display_name": "Python 3",
   "language": "python",
   "name": "python3"
  },
  "language_info": {
   "codemirror_mode": {
    "name": "ipython",
    "version": 3
   },
   "file_extension": ".py",
   "mimetype": "text/x-python",
   "name": "python",
   "nbconvert_exporter": "python",
   "pygments_lexer": "ipython3",
   "version": "3.8.5"
  }
 },
 "nbformat": 4,
 "nbformat_minor": 4
}
