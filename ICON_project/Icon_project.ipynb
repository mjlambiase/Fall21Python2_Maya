{
 "cells": [
  {
   "cell_type": "code",
   "execution_count": null,
   "metadata": {},
   "outputs": [],
   "source": [
    "# create list of tuples to represent each icon as a letter\n",
    "letter_m = [(0,0,0,0,0,0,0,0,0,0), (0,0,0,0,0,0,0,0,0,0), (0,0,1,1,0,0,0,1,1,0), (0,0,1,1,1,0,1,1,1,0), (0,0,1,0,1,1,1,0,1,0), (0,0,1,0,0,1,0,0,1,0), (0,0,1,0,0,0,0,0,1,0), (0,0,1,0,0,0,0,0,1,0), (0,0,1,0,0,0,0,0,1,0), (0,0,1,0,0,0,0,0,1,0)]\n",
    "letter_a = [(0,0,0,0,0,0,0,0,0,0), (0,0,0,0,0,0,0,0,0,0), (0,0,0,1,1,1,1,1,0,0), (0,0,1,1,0,0,0,1,1,0), (0,0,1,0,0,0,0,0,1,0), (0,0,1,0,0,0,0,0,1,0), (0,0,1,1,1,1,1,1,1,0), (0,0,1,0,0,0,0,0,1,0), (0,0,1,0,0,0,0,0,1,0), (0,0,1,0,0,0,0,0,1,0)]\n",
    "letter_y = [(0,0,0,0,0,0,0,0,0,0), (0,0,0,0,0,0,0,0,0,0), (0,0,1,1,0,0,0,1,1,0), (0,0,0,1,1,0,1,1,0,0), (0,0,0,0,1,0,1,0,0,0), (0,0,0,0,1,1,1,0,0,0), (0,0,0,0,0,1,0,0,0,0), (0,0,0,0,0,1,0,0,0,0), (0,0,0,0,0,1,0,0,0,0), (0,0,0,0,0,1,0,0,0,0)]   \n",
    "\n",
    "# print icon letters using tuple set up\n",
    "def print_icon(list_of_tuples):\n",
    "    # use nested for loops to print icon\n",
    "    for i in list_of_tuples:\n",
    "        for j in i:\n",
    "            if j == 0:\n",
    "                print(\" \", end = \"\")\n",
    "            else:\n",
    "                print(\"#\", end = \"\")  \n",
    "        print(\"\")\n",
    "        \n",
    "print_icon(letter_m)\n",
    "print_icon(letter_a)\n",
    "print_icon(letter_y)\n",
    "print_icon(letter_a)"
   ]
  },
  {
   "cell_type": "code",
   "execution_count": 34,
   "metadata": {},
   "outputs": [
    {
     "name": "stdout",
     "output_type": "stream",
     "text": [
      "$$$$$$$$$$\n",
      "$////////$\n",
      "$/$$$$$$/$\n",
      "$/$////$/$\n",
      "$/$/$//$/$\n",
      "$/$/$$$$/$\n",
      "$/$//////$\n",
      "$/$$$$$$$$\n",
      "$/////////\n",
      "$$$$$$$$$$\n"
     ]
    }
   ],
   "source": [
    "# Print icon using dictionary set up\n",
    "icon = {\n",
    "        1  : [1,1,1,1,1,1,1,1,1,1],\n",
    "        2  : [1,0,0,0,0,0,0,0,0,1],\n",
    "        3  : [1,0,1,1,1,1,1,1,0,1],\n",
    "        4  : [1,0,1,0,0,0,0,1,0,1],\n",
    "        5  : [1,0,1,0,1,0,0,1,0,1],\n",
    "        6  : [1,0,1,0,1,1,1,1,0,1],\n",
    "        7  : [1,0,1,0,0,0,0,0,0,1],\n",
    "        8  : [1,0,1,1,1,1,1,1,1,1],\n",
    "        9  : [1,0,0,0,0,0,0,0,0,0],\n",
    "        10 : [1,1,1,1,1,1,1,1,1,1]\n",
    "        }\n",
    "\n",
    "for key in icon:\n",
    "    list_of_keys = icon[key]\n",
    "    for value in list_of_keys:    \n",
    "        if value == 1:\n",
    "            value = '$'\n",
    "        elif value == 0:\n",
    "            value = '/'\n",
    "        print(value, end=\"\")\n",
    "    print()  \n"
   ]
  },
  {
   "cell_type": "code",
   "execution_count": null,
   "metadata": {},
   "outputs": [],
   "source": []
  }
 ],
 "metadata": {
  "kernelspec": {
   "display_name": "Python 3",
   "language": "python",
   "name": "python3"
  },
  "language_info": {
   "codemirror_mode": {
    "name": "ipython",
    "version": 3
   },
   "file_extension": ".py",
   "mimetype": "text/x-python",
   "name": "python",
   "nbconvert_exporter": "python",
   "pygments_lexer": "ipython3",
   "version": "3.8.5"
  }
 },
 "nbformat": 4,
 "nbformat_minor": 4
}
