{
 "cells": [
  {
   "cell_type": "code",
   "execution_count": 13,
   "metadata": {},
   "outputs": [],
   "source": [
    "# create list of tuples to represent each icon letter\n",
    "letter_m = [(0,0,0,0,0,0,0,0,0,0), (0,0,0,0,0,0,0,0,0,0), (0,0,1,1,0,0,0,1,1,0), (0,0,1,1,1,0,1,1,1,0), (0,0,1,0,1,1,1,0,1,0), (0,0,1,0,0,1,0,0,1,0), (0,0,1,0,0,0,0,0,1,0), (0,0,1,0,0,0,0,0,1,0), (0,0,1,0,0,0,0,0,1,0), (0,0,1,0,0,0,0,0,1,0)]\n",
    "letter_a = [(0,0,0,0,0,0,0,0,0,0), (0,0,0,0,0,0,0,0,0,0), (0,0,0,1,1,1,1,1,0,0), (0,0,1,1,0,0,0,1,1,0), (0,0,1,0,0,0,0,0,1,0), (0,0,1,0,0,0,0,0,1,0), (0,0,1,1,1,1,1,1,1,0), (0,0,1,0,0,0,0,0,1,0), (0,0,1,0,0,0,0,0,1,0), (0,0,1,0,0,0,0,0,1,0)]\n",
    "letter_y = [(0,0,0,0,0,0,0,0,0,0), (0,0,0,0,0,0,0,0,0,0), (0,0,1,1,0,0,0,1,1,0), (0,0,0,1,1,0,1,1,0,0), (0,0,0,0,1,0,1,0,0,0), (0,0,0,0,1,1,1,0,0,0), (0,0,0,0,0,1,0,0,0,0), (0,0,0,0,0,1,0,0,0,0), (0,0,0,0,0,1,0,0,0,0), (0,0,0,0,0,1,0,0,0,0)]   "
   ]
  },
  {
   "cell_type": "code",
   "execution_count": 16,
   "metadata": {},
   "outputs": [],
   "source": [
    "def print_icon(list_of_tuples):\n",
    "    # use nested for loops to print icon\n",
    "    for i in list_of_tuples:\n",
    "        for j in i:\n",
    "            if j == 0:\n",
    "                print(\" \", end = \"\")\n",
    "            else:\n",
    "                print(\"#\", end = \"\")  \n",
    "        print(\"\")"
   ]
  },
  {
   "cell_type": "code",
   "execution_count": null,
   "metadata": {},
   "outputs": [],
   "source": [
    "print_icon(letter_m)\n",
    "print_icon(letter_a)\n",
    "print_icon(letter_y)\n",
    "print_icon(letter_a)"
   ]
  },
  {
   "cell_type": "code",
   "execution_count": null,
   "metadata": {},
   "outputs": [],
   "source": []
  }
 ],
 "metadata": {
  "kernelspec": {
   "display_name": "Python 3",
   "language": "python",
   "name": "python3"
  },
  "language_info": {
   "codemirror_mode": {
    "name": "ipython",
    "version": 3
   },
   "file_extension": ".py",
   "mimetype": "text/x-python",
   "name": "python",
   "nbconvert_exporter": "python",
   "pygments_lexer": "ipython3",
   "version": "3.8.5"
  }
 },
 "nbformat": 4,
 "nbformat_minor": 4
}
