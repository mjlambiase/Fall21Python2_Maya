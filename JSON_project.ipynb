{
 "cells": [
  {
   "cell_type": "code",
   "execution_count": 14,
   "metadata": {},
   "outputs": [],
   "source": [
    "import json\n",
    "import csv\n",
    "\n",
    "# create empty dictionary\n",
    "data = {}\n",
    "\n",
    "# open csv reader with dictReader\n",
    "with open(\"Covid_practice_data.csv\") as csvfile:\n",
    "    csvReader = csv.DictReader(csvfile)\n",
    "    for row in csvReader:\n",
    "        rowid = row['Row_id']\n",
    "        data[rowid] = row\n",
    "\n",
    "# save dictionary to JSON file        \n",
    "with open(\"jsontest.json\", \"w\") as jsonfile:\n",
    "    jsonfile.write(json.dumps(data))"
   ]
  },
  {
   "cell_type": "code",
   "execution_count": null,
   "metadata": {},
   "outputs": [],
   "source": [
    "\n",
    "                    \n",
    "                    "
   ]
  }
 ],
 "metadata": {
  "kernelspec": {
   "display_name": "Python 3",
   "language": "python",
   "name": "python3"
  },
  "language_info": {
   "codemirror_mode": {
    "name": "ipython",
    "version": 3
   },
   "file_extension": ".py",
   "mimetype": "text/x-python",
   "name": "python",
   "nbconvert_exporter": "python",
   "pygments_lexer": "ipython3",
   "version": "3.8.5"
  }
 },
 "nbformat": 4,
 "nbformat_minor": 4
}
