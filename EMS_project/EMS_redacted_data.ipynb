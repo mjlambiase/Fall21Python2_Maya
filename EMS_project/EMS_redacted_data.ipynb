{
 "cells": [
  {
   "cell_type": "markdown",
   "metadata": {},
   "source": [
    "## <b> Determine the rate of redacted call descriptions for EMS data set\n",
    "    - Output a dictionary of counts of redactions by year\n",
    "    - Extract record ID and write to file log each redacted record\n",
    "    - Determine if the rate of redaction has changed over the years  \n",
    "    \n",
    "Source: WPRDC Data set on EMS/Fire dispatch via \n",
    "<br> https://data.wprdc.org/dataset/allegheny-county-911-dispatches-ems-and-fire/resource/ff33ca18-2e0c-4cb5-bdcd-60a5dc3c0418?view_id=5007870f-c48b-4849-bb25-3e46c37f2dc7    "
   ]
  },
  {
   "cell_type": "code",
   "execution_count": 1,
   "metadata": {},
   "outputs": [],
   "source": [
    "import csv"
   ]
  },
  {
   "cell_type": "code",
   "execution_count": 39,
   "metadata": {},
   "outputs": [],
   "source": [
    "def get_ems_data(file_name):\n",
    "    # open csv file with DictReader and save records as a list of dictionaries    \n",
    "    with open(file_name, \"r\") as file:\n",
    "        csv_reader = csv.DictReader(file)\n",
    "        ems_records = list(csv_reader)\n",
    "    return ems_records"
   ]
  },
  {
   "cell_type": "code",
   "execution_count": 40,
   "metadata": {},
   "outputs": [],
   "source": [
    "def check_for_redactions_and_log(record_list, file_name_output):\n",
    "    # check if record is redated\n",
    "    # save the redacted id's in a text file\n",
    "    # record_list is the name of the record list data\n",
    "    # file_out put is what to name the text file of redacted id's\n",
    "    with open(file_name_output, \"a\") as log:\n",
    "        for record in record_list:\n",
    "            if record['description_short'] == \"Removed\":\n",
    "                log.write(record['call_id_hash'])\n",
    "                log.write('\\n')"
   ]
  },
  {
   "cell_type": "code",
   "execution_count": 91,
   "metadata": {},
   "outputs": [],
   "source": [
    "def calculate_percent_redaction_by_year(record_list):\n",
    "    # create dictionaries to count redactions by year and total records per year\n",
    "    # calculate percent redacted per year and print\n",
    "    \n",
    "    redacted_years = {} # number of redactions per year\n",
    "    total_years = {} # total records per year\n",
    "    for row in record_list:\n",
    "        if row['description_short'] == 'Removed':\n",
    "            redacted = row['call_year']\n",
    "            if row['call_year'] in redacted_years:\n",
    "                redacted_years[redacted] = redacted_years[redacted] + 1\n",
    "            else:\n",
    "                redacted_years.update({redacted: 1})\n",
    "    for row in record_list:\n",
    "        call_year =  row['call_year']\n",
    "        if row['call_year'] in total_years:\n",
    "            total_years[call_year] = total_years[call_year] + 1\n",
    "        else:\n",
    "            total_years.update({call_year: 1})\n",
    "\n",
    "    print(\"Percent redacted records per year: \")\n",
    "    for i in redacted_years:\n",
    "        percent_redacted = redacted_years[i] / total_years[i]\n",
    "        print(i, percent_redacted, \"%\")"
   ]
  },
  {
   "cell_type": "code",
   "execution_count": 93,
   "metadata": {},
   "outputs": [
    {
     "name": "stdout",
     "output_type": "stream",
     "text": [
      "Percent redacted records per year: \n",
      "2019 0.17617572704992376 %\n",
      "2020 0.30494333805516205 %\n",
      "2016 0.16483291436061007 %\n",
      "2021 0.3008641082285781 %\n",
      "2015 0.16789137718963396 %\n",
      "2018 0.1599828158094553 %\n",
      "2017 0.16558994403753197 %\n"
     ]
    }
   ],
   "source": [
    "# call functions to run program\n",
    "ems_records = get_ems_data(\"ac_ems_300records.csv\") # only using 300 records file to test code\n",
    "check_for_redactions_and_log(ems_records, \"redacted_id_log.txt\")\n",
    "calculate_percent_redaction_by_year(ems_records)\n"
   ]
  },
  {
   "cell_type": "code",
   "execution_count": null,
   "metadata": {},
   "outputs": [],
   "source": []
  }
 ],
 "metadata": {
  "kernelspec": {
   "display_name": "Python 3",
   "language": "python",
   "name": "python3"
  },
  "language_info": {
   "codemirror_mode": {
    "name": "ipython",
    "version": 3
   },
   "file_extension": ".py",
   "mimetype": "text/x-python",
   "name": "python",
   "nbconvert_exporter": "python",
   "pygments_lexer": "ipython3",
   "version": "3.8.5"
  }
 },
 "nbformat": 4,
 "nbformat_minor": 4
}
