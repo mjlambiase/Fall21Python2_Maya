{
 "cells": [
  {
   "cell_type": "markdown",
   "metadata": {},
   "source": [
    "# <b> EXCEPTIONS IN PYTHON\n",
    "    \n",
    "## <b> What is an exception?    \n",
    "An exception is an event that disrupts the normal flow of the program.  When a Python script encounters a situation that it cannot cope with, an exception is raised (i.e. an error occurs). When an exception is raised, the Python script must handle the exception immediately, otherwise the program will terminate."
   ]
  },
  {
   "cell_type": "markdown",
   "metadata": {},
   "source": [
    "## <b> Why use exceptions?\n",
    "- Handle errors when they occur instead of program breaking down  \n",
    "- Catch invalid inputs        \n",
    "- Anticipate sections of code that might have an error or exception and handle them appropriately\n",
    "- Exceptions let you jump out of arbitrarily large chunks of a program and can help with flow control of your program"
   ]
  },
  {
   "cell_type": "markdown",
   "metadata": {},
   "source": [
    "## <b> Common/standard exceptions  \n",
    "- **Exception:** base class for all exceptions\n",
    "- **ZeroDivisionError:** raised when division by zero takes place\n",
    "- **ImportError:** raised when an import statement fails\n",
    "- **ValueError:** raised when arguments have invalid values specified\n",
    "- **KeyError:** raised when the specified key is not found in the dictionary\n",
    "- Standard exception names and descriptions: https://pymotw.com/2/exceptions/\n"
   ]
  },
  {
   "cell_type": "markdown",
   "metadata": {},
   "source": [
    "## <b> Syntax\n",
    "    \n",
    "**try:**\n",
    "> Put your operations/code here\n",
    "    \n",
    "**except** ExceptionName**:** \n",
    "> If there is an exception, then execute this block\n",
    "    \n",
    "**else:** (optional)\n",
    "> If there is no exception, then execute this block\n",
    "    \n",
    "**finally:** (optional)\n",
    "> This will always be executed"
   ]
  },
  {
   "cell_type": "markdown",
   "metadata": {},
   "source": [
    "## <b> Example"
   ]
  },
  {
   "cell_type": "code",
   "execution_count": null,
   "metadata": {},
   "outputs": [],
   "source": [
    "# Zero division error\n",
    "x = 4/0"
   ]
  },
  {
   "cell_type": "code",
   "execution_count": null,
   "metadata": {},
   "outputs": [],
   "source": [
    "# include code in try/except block to handle this exception\n",
    "# store error as a variable\n",
    "try:\n",
    "    x = 4/0 \n",
    "except ZeroDivisionError:\n",
    "    print(\"Cannot divide by zero\")"
   ]
  },
  {
   "cell_type": "code",
   "execution_count": null,
   "metadata": {},
   "outputs": [],
   "source": [
    "# add an else statement which will print if there is no exception\n",
    "try:\n",
    "    x = 4/2 \n",
    "except ZeroDivisionError:\n",
    "    print(\"Cannot divide by zero\")\n",
    "else:\n",
    "    print(x)"
   ]
  },
  {
   "cell_type": "code",
   "execution_count": null,
   "metadata": {},
   "outputs": [],
   "source": [
    "# add a finally clause\n",
    "# run with and without exception\n",
    "try:\n",
    "    x = 4/0 \n",
    "except ZeroDivisionError as e:\n",
    "    print(e)\n",
    "else:\n",
    "    print(x)\n",
    "finally:\n",
    "    print(\"This will always print\")"
   ]
  },
  {
   "cell_type": "code",
   "execution_count": null,
   "metadata": {},
   "outputs": [],
   "source": [
    "# add a second except statement\n",
    "# order of exceptions matters\n",
    "try:\n",
    "    x = 4/2 \n",
    "    number = int(input(\"Enter a number: \"))\n",
    "except ZeroDivisionError as err:    \n",
    "    print(err)\n",
    "except ValueError as err: \n",
    "    print(err)\n",
    "else:\n",
    "    print(\"You entered the number: \", number)\n",
    "   "
   ]
  },
  {
   "cell_type": "markdown",
   "metadata": {},
   "source": [
    "<br> ---------------------------------------------------------------------------------------------------------------------------------------"
   ]
  },
  {
   "cell_type": "markdown",
   "metadata": {},
   "source": [
    "## Advanced exception capabilities\n",
    "\n",
    "- Trigger an exception manually in your code (raise)\n",
    "- Conditionally trigger an exception in your code (assert)\n",
    "- Define your own exceptions (user-defined exceptions)"
   ]
  },
  {
   "cell_type": "markdown",
   "metadata": {},
   "source": [
    "## References\n",
    "Python.org (errors and exceptions):\n",
    "<br> https://docs.python.org/3/tutorial/errors.html\n",
    "<br> Python - Exceptions Handling:\n",
    "<br> https://www.tutorialspoint.com/python/python_exceptions.htm\n",
    "<br> YouTube videos:\n",
    "<br> https://www.youtube.com/watch?v=KdMAj8Et4xk&list=PL7CmSf1qzIB5HMGzqOgrXeodJ4BAm0Pfb&index=6\n",
    "<br> https://www.youtube.com/watch?v=NIWwJbo-9_8&list=PL7CmSf1qzIB5HMGzqOgrXeodJ4BAm0Pfb&index=5\n",
    "<br> Books:\n",
    "<br> Intro to Python for Computer Science and Data Science by Paul and Harvey Deitel. 1st edition (pgs 332-341)\n",
    "<br> Learning Python by Mark Lutz. 5th edition (chapters 33-36)\n",
    "<br>\n",
    "<br> ----------------------------------------------------------------------------------------------------------------------------------------------\n",
    "<br>\n",
    "<br> github link\n",
    "<br>https://github.com/mjlambiase/Fall21Python2_Maya/tree/main/Exceptions"
   ]
  },
  {
   "cell_type": "markdown",
   "metadata": {},
   "source": [
    "# <b> CLASS EXERCISE"
   ]
  },
  {
   "cell_type": "markdown",
   "metadata": {},
   "source": [
    "## Part 1. Opening files\n",
    "- Download this jupyter notebook and text file (save as exceptions_test_file.txt) into same directory on your computer\n",
    "- Open jupyter notebook and run the line of code below\n",
    "- Based on the error received, write code to handle the exception and print a message if the exception is encountered\n",
    "- In a seperate cell, fix the file name and then modify your code to:\n",
    "    - handle the exception (and/or other anticipated exceptions) if encountered \n",
    "    - print the contents of the text file if exception(s) is/are not encountered \n",
    "    - close the file\n",
    "\n",
    "## Part 2. Write code to handle an exception not previously discussed \n",
    "- You can use code that you have previously written or just come up with an example\n",
    "- Minimum: include try/except statments to handle the specified exception\n",
    "- Additionally, you may want to include:\n",
    "    - multiple exceptions\n",
    "    - else statement\n",
    "    - finally statment\n",
    "\n",
    "## Part 3. Share code \n",
    "- Share your code for part 1 and/or part 2 with class\n"
   ]
  },
  {
   "cell_type": "code",
   "execution_count": null,
   "metadata": {},
   "outputs": [],
   "source": [
    "# run this line of code for part 1\n",
    "file = open('exceptionstestfile.txt')"
   ]
  }
 ],
 "metadata": {
  "kernelspec": {
   "display_name": "Python 3",
   "language": "python",
   "name": "python3"
  },
  "language_info": {
   "codemirror_mode": {
    "name": "ipython",
    "version": 3
   },
   "file_extension": ".py",
   "mimetype": "text/x-python",
   "name": "python",
   "nbconvert_exporter": "python",
   "pygments_lexer": "ipython3",
   "version": "3.8.5"
  }
 },
 "nbformat": 4,
 "nbformat_minor": 4
}
